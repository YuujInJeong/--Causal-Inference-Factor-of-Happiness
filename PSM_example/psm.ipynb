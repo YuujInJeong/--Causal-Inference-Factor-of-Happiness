{
 "cells": [
  {
   "cell_type": "code",
   "execution_count": 5,
   "metadata": {},
   "outputs": [],
   "source": [
    "import warnings\n",
    "warnings.filterwarnings('ignore')\n",
    "\n",
    "import pandas as pd\n",
    "import numpy as np\n",
    "from matplotlib import style\n",
    "from matplotlib import pyplot as plt\n",
    "import seaborn as sns\n",
    "import statsmodels.api as sm\n",
    "import statsmodels.formula.api as smf\n",
    "from causalinference import CausalModel\n",
    "from sklearn.linear_model import LogisticRegression\n",
    "\n",
    "import graphviz as gr\n",
    "\n",
    "%matplotlib inline\n",
    "\n",
    "style.use(\"fivethirtyeight\")\n",
    "pd.set_option(\"display.max_columns\", 6)"
   ]
  },
  {
   "cell_type": "markdown",
   "metadata": {},
   "source": [
    "## 데이터 가져오기"
   ]
  },
  {
   "cell_type": "code",
   "execution_count": 6,
   "metadata": {},
   "outputs": [],
   "source": [
    "data = pd.read_csv(\"lalonde_data.csv\")"
   ]
  },
  {
   "cell_type": "markdown",
   "metadata": {},
   "source": [
    "## 회귀 분석"
   ]
  },
  {
   "cell_type": "code",
   "execution_count": 7,
   "metadata": {},
   "outputs": [],
   "source": [
    "TREAT = \"treat\"\n",
    "FEATURE = [\"age\", \"educ\", \"married\", \"re74\"]"
   ]
  },
  {
   "cell_type": "code",
   "execution_count": 8,
   "metadata": {},
   "outputs": [
    {
     "name": "stdout",
     "output_type": "stream",
     "text": [
      "treat ~ age + educ + married + re74\n"
     ]
    }
   ],
   "source": [
    "formula = f\"{TREAT} ~ {' + '.join(FEATURE)}\"\n",
    "print(formula)"
   ]
  },
  {
   "cell_type": "code",
   "execution_count": 9,
   "metadata": {},
   "outputs": [
    {
     "data": {
      "text/html": [
       "<table class=\"simpletable\">\n",
       "<tr>\n",
       "      <td></td>         <th>coef</th>     <th>std err</th>      <th>z</th>      <th>P>|z|</th>  <th>[0.025</th>    <th>0.975]</th>  \n",
       "</tr>\n",
       "<tr>\n",
       "  <th>Intercept</th> <td>   -0.6849</td> <td>    0.490</td> <td>   -1.396</td> <td> 0.163</td> <td>   -1.646</td> <td>    0.276</td>\n",
       "</tr>\n",
       "<tr>\n",
       "  <th>age</th>       <td>    0.0124</td> <td>    0.011</td> <td>    1.181</td> <td> 0.238</td> <td>   -0.008</td> <td>    0.033</td>\n",
       "</tr>\n",
       "<tr>\n",
       "  <th>educ</th>      <td>    0.0221</td> <td>    0.037</td> <td>    0.591</td> <td> 0.554</td> <td>   -0.051</td> <td>    0.095</td>\n",
       "</tr>\n",
       "<tr>\n",
       "  <th>married</th>   <td>   -1.2208</td> <td>    0.237</td> <td>   -5.161</td> <td> 0.000</td> <td>   -1.684</td> <td>   -0.757</td>\n",
       "</tr>\n",
       "<tr>\n",
       "  <th>re74</th>      <td>  -8.7e-05</td> <td> 2.21e-05</td> <td>   -3.929</td> <td> 0.000</td> <td>   -0.000</td> <td>-4.36e-05</td>\n",
       "</tr>\n",
       "</table>"
      ],
      "text/plain": [
       "<class 'statsmodels.iolib.table.SimpleTable'>"
      ]
     },
     "execution_count": 9,
     "metadata": {},
     "output_type": "execute_result"
    }
   ],
   "source": [
    "lg_model = smf.glm(formula=formula, data=data, family=sm.families.Binomial()).fit()\n",
    "lg_model.summary().tables[1]"
   ]
  },
  {
   "cell_type": "code",
   "execution_count": 10,
   "metadata": {},
   "outputs": [
    {
     "data": {
      "text/plain": [
       "0      0.230980\n",
       "1      0.447041\n",
       "2      0.488269\n",
       "3      0.473447\n",
       "4      0.475522\n",
       "         ...   \n",
       "609    0.445671\n",
       "610    0.170054\n",
       "611    0.493430\n",
       "612    0.198220\n",
       "613    0.428686\n",
       "Length: 614, dtype: float64"
      ]
     },
     "execution_count": 10,
     "metadata": {},
     "output_type": "execute_result"
    }
   ],
   "source": [
    "Propensity_Score = lg_model.predict(data[FEATURE])\n",
    "data['Propensity_Score'] = Propensity_Score\n",
    "\n",
    "Propensity_Score"
   ]
  },
  {
   "cell_type": "markdown",
   "metadata": {},
   "source": [
    "## 회귀분석 기반 매칭"
   ]
  },
  {
   "cell_type": "code",
   "execution_count": 7,
   "metadata": {},
   "outputs": [],
   "source": [
    "import pandas as pd\n",
    "from scipy.spatial.distance import cdist\n",
    "\n",
    "data['Propensity_Score'] = pd.to_numeric(data['Propensity_Score'])\n",
    "data['pair'] = \"NAN\"\n",
    "# 처치군과 대조군 나누기\n",
    "treatment_group = data[data['treat'] == 1]\n",
    "control_group = data[data['treat'] == 0]\n",
    "\n",
    "# 매칭 결과를 저장할 딕셔너리\n",
    "matching_result = {}\n",
    "\n",
    "# 매칭되지 않은 대조군\n",
    "remaining_controls = control_group.copy()\n",
    "\n",
    "for index_treat, row_treat in treatment_group.iterrows():\n",
    "    # 처치군의 각 행에 대해서 대조군과의 유사도 측정\n",
    "    distances = cdist([row_treat[['Propensity_Score']].astype(float)], remaining_controls[['Propensity_Score']], metric='euclidean')\n",
    "    \n",
    "    # 유사도가 가장 작은 대조군의 index 찾기\n",
    "    best_match_index = distances.argmin()\n",
    "    matching_control_index = remaining_controls.iloc[best_match_index].name\n",
    "    \n",
    "    # 매칭 결과 저장\n",
    "    matching_result[index_treat] = matching_control_index\n",
    "     \n",
    "    # 매칭된 대조군 제외\n",
    "    remaining_controls.drop(index=matching_control_index, inplace=True)\n",
    "\n",
    "for treat_index, control_index in matching_result.items():\n",
    "    treatment_group.loc[treat_index, \"pair\"] = int(control_index)  \n",
    "    control_group.loc[control_index, 'pair'] = int(treat_index) "
   ]
  },
  {
   "cell_type": "code",
   "execution_count": 8,
   "metadata": {},
   "outputs": [],
   "source": [
    "matched_control_group =  control_group[control_group['pair']!=\"NAN\"]\n",
    "unmatched_control_group = control_group[control_group['pair']==\"NAN\"]"
   ]
  },
  {
   "cell_type": "code",
   "execution_count": 9,
   "metadata": {},
   "outputs": [
    {
     "data": {
      "text/html": [
       "<div>\n",
       "<style scoped>\n",
       "    .dataframe tbody tr th:only-of-type {\n",
       "        vertical-align: middle;\n",
       "    }\n",
       "\n",
       "    .dataframe tbody tr th {\n",
       "        vertical-align: top;\n",
       "    }\n",
       "\n",
       "    .dataframe thead th {\n",
       "        text-align: right;\n",
       "    }\n",
       "</style>\n",
       "<table border=\"1\" class=\"dataframe\">\n",
       "  <thead>\n",
       "    <tr style=\"text-align: right;\">\n",
       "      <th></th>\n",
       "      <th>treat</th>\n",
       "      <th>age</th>\n",
       "      <th>educ</th>\n",
       "      <th>...</th>\n",
       "      <th>re75</th>\n",
       "      <th>re78</th>\n",
       "      <th>Propensity_Score</th>\n",
       "    </tr>\n",
       "  </thead>\n",
       "  <tbody>\n",
       "    <tr>\n",
       "      <th>count</th>\n",
       "      <td>185.0</td>\n",
       "      <td>185.000000</td>\n",
       "      <td>185.000000</td>\n",
       "      <td>...</td>\n",
       "      <td>185.000000</td>\n",
       "      <td>185.000000</td>\n",
       "      <td>185.000000</td>\n",
       "    </tr>\n",
       "    <tr>\n",
       "      <th>mean</th>\n",
       "      <td>1.0</td>\n",
       "      <td>25.816216</td>\n",
       "      <td>10.345946</td>\n",
       "      <td>...</td>\n",
       "      <td>1532.055314</td>\n",
       "      <td>6349.143530</td>\n",
       "      <td>0.383238</td>\n",
       "    </tr>\n",
       "    <tr>\n",
       "      <th>std</th>\n",
       "      <td>0.0</td>\n",
       "      <td>7.155019</td>\n",
       "      <td>2.010650</td>\n",
       "      <td>...</td>\n",
       "      <td>3219.250870</td>\n",
       "      <td>7867.402218</td>\n",
       "      <td>0.124134</td>\n",
       "    </tr>\n",
       "    <tr>\n",
       "      <th>min</th>\n",
       "      <td>1.0</td>\n",
       "      <td>17.000000</td>\n",
       "      <td>4.000000</td>\n",
       "      <td>...</td>\n",
       "      <td>0.000000</td>\n",
       "      <td>0.000000</td>\n",
       "      <td>0.012945</td>\n",
       "    </tr>\n",
       "    <tr>\n",
       "      <th>25%</th>\n",
       "      <td>1.0</td>\n",
       "      <td>20.000000</td>\n",
       "      <td>9.000000</td>\n",
       "      <td>...</td>\n",
       "      <td>0.000000</td>\n",
       "      <td>485.229800</td>\n",
       "      <td>0.287525</td>\n",
       "    </tr>\n",
       "    <tr>\n",
       "      <th>50%</th>\n",
       "      <td>1.0</td>\n",
       "      <td>25.000000</td>\n",
       "      <td>11.000000</td>\n",
       "      <td>...</td>\n",
       "      <td>0.000000</td>\n",
       "      <td>4232.309000</td>\n",
       "      <td>0.437842</td>\n",
       "    </tr>\n",
       "    <tr>\n",
       "      <th>75%</th>\n",
       "      <td>1.0</td>\n",
       "      <td>29.000000</td>\n",
       "      <td>12.000000</td>\n",
       "      <td>...</td>\n",
       "      <td>1817.284000</td>\n",
       "      <td>9642.999000</td>\n",
       "      <td>0.467254</td>\n",
       "    </tr>\n",
       "    <tr>\n",
       "      <th>max</th>\n",
       "      <td>1.0</td>\n",
       "      <td>48.000000</td>\n",
       "      <td>16.000000</td>\n",
       "      <td>...</td>\n",
       "      <td>25142.240000</td>\n",
       "      <td>60307.930000</td>\n",
       "      <td>0.543398</td>\n",
       "    </tr>\n",
       "  </tbody>\n",
       "</table>\n",
       "<p>8 rows × 11 columns</p>\n",
       "</div>"
      ],
      "text/plain": [
       "       treat         age        educ  ...          re75          re78  \\\n",
       "count  185.0  185.000000  185.000000  ...    185.000000    185.000000   \n",
       "mean     1.0   25.816216   10.345946  ...   1532.055314   6349.143530   \n",
       "std      0.0    7.155019    2.010650  ...   3219.250870   7867.402218   \n",
       "min      1.0   17.000000    4.000000  ...      0.000000      0.000000   \n",
       "25%      1.0   20.000000    9.000000  ...      0.000000    485.229800   \n",
       "50%      1.0   25.000000   11.000000  ...      0.000000   4232.309000   \n",
       "75%      1.0   29.000000   12.000000  ...   1817.284000   9642.999000   \n",
       "max      1.0   48.000000   16.000000  ...  25142.240000  60307.930000   \n",
       "\n",
       "       Propensity_Score  \n",
       "count        185.000000  \n",
       "mean           0.383238  \n",
       "std            0.124134  \n",
       "min            0.012945  \n",
       "25%            0.287525  \n",
       "50%            0.437842  \n",
       "75%            0.467254  \n",
       "max            0.543398  \n",
       "\n",
       "[8 rows x 11 columns]"
      ]
     },
     "execution_count": 9,
     "metadata": {},
     "output_type": "execute_result"
    }
   ],
   "source": [
    "treatment_group.describe()"
   ]
  },
  {
   "cell_type": "code",
   "execution_count": 10,
   "metadata": {},
   "outputs": [
    {
     "data": {
      "text/html": [
       "<div>\n",
       "<style scoped>\n",
       "    .dataframe tbody tr th:only-of-type {\n",
       "        vertical-align: middle;\n",
       "    }\n",
       "\n",
       "    .dataframe tbody tr th {\n",
       "        vertical-align: top;\n",
       "    }\n",
       "\n",
       "    .dataframe thead th {\n",
       "        text-align: right;\n",
       "    }\n",
       "</style>\n",
       "<table border=\"1\" class=\"dataframe\">\n",
       "  <thead>\n",
       "    <tr style=\"text-align: right;\">\n",
       "      <th></th>\n",
       "      <th>treat</th>\n",
       "      <th>age</th>\n",
       "      <th>educ</th>\n",
       "      <th>...</th>\n",
       "      <th>re75</th>\n",
       "      <th>re78</th>\n",
       "      <th>Propensity_Score</th>\n",
       "    </tr>\n",
       "  </thead>\n",
       "  <tbody>\n",
       "    <tr>\n",
       "      <th>count</th>\n",
       "      <td>185.0</td>\n",
       "      <td>185.000000</td>\n",
       "      <td>185.000000</td>\n",
       "      <td>...</td>\n",
       "      <td>185.000000</td>\n",
       "      <td>185.000000</td>\n",
       "      <td>185.000000</td>\n",
       "    </tr>\n",
       "    <tr>\n",
       "      <th>mean</th>\n",
       "      <td>0.0</td>\n",
       "      <td>25.372973</td>\n",
       "      <td>10.524324</td>\n",
       "      <td>...</td>\n",
       "      <td>1219.906496</td>\n",
       "      <td>5272.999691</td>\n",
       "      <td>0.376183</td>\n",
       "    </tr>\n",
       "    <tr>\n",
       "      <th>std</th>\n",
       "      <td>0.0</td>\n",
       "      <td>10.228175</td>\n",
       "      <td>2.813149</td>\n",
       "      <td>...</td>\n",
       "      <td>2230.169769</td>\n",
       "      <td>5974.797220</td>\n",
       "      <td>0.120044</td>\n",
       "    </tr>\n",
       "    <tr>\n",
       "      <th>min</th>\n",
       "      <td>0.0</td>\n",
       "      <td>16.000000</td>\n",
       "      <td>1.000000</td>\n",
       "      <td>...</td>\n",
       "      <td>0.000000</td>\n",
       "      <td>0.000000</td>\n",
       "      <td>0.027455</td>\n",
       "    </tr>\n",
       "    <tr>\n",
       "      <th>25%</th>\n",
       "      <td>0.0</td>\n",
       "      <td>18.000000</td>\n",
       "      <td>9.000000</td>\n",
       "      <td>...</td>\n",
       "      <td>0.000000</td>\n",
       "      <td>0.000000</td>\n",
       "      <td>0.283778</td>\n",
       "    </tr>\n",
       "    <tr>\n",
       "      <th>50%</th>\n",
       "      <td>0.0</td>\n",
       "      <td>21.000000</td>\n",
       "      <td>11.000000</td>\n",
       "      <td>...</td>\n",
       "      <td>218.419400</td>\n",
       "      <td>3367.739000</td>\n",
       "      <td>0.428686</td>\n",
       "    </tr>\n",
       "    <tr>\n",
       "      <th>75%</th>\n",
       "      <td>0.0</td>\n",
       "      <td>30.000000</td>\n",
       "      <td>12.000000</td>\n",
       "      <td>...</td>\n",
       "      <td>1448.371000</td>\n",
       "      <td>7759.542000</td>\n",
       "      <td>0.445671</td>\n",
       "    </tr>\n",
       "    <tr>\n",
       "      <th>max</th>\n",
       "      <td>0.0</td>\n",
       "      <td>55.000000</td>\n",
       "      <td>18.000000</td>\n",
       "      <td>...</td>\n",
       "      <td>17806.550000</td>\n",
       "      <td>25564.670000</td>\n",
       "      <td>0.559455</td>\n",
       "    </tr>\n",
       "  </tbody>\n",
       "</table>\n",
       "<p>8 rows × 11 columns</p>\n",
       "</div>"
      ],
      "text/plain": [
       "       treat         age        educ  ...          re75          re78  \\\n",
       "count  185.0  185.000000  185.000000  ...    185.000000    185.000000   \n",
       "mean     0.0   25.372973   10.524324  ...   1219.906496   5272.999691   \n",
       "std      0.0   10.228175    2.813149  ...   2230.169769   5974.797220   \n",
       "min      0.0   16.000000    1.000000  ...      0.000000      0.000000   \n",
       "25%      0.0   18.000000    9.000000  ...      0.000000      0.000000   \n",
       "50%      0.0   21.000000   11.000000  ...    218.419400   3367.739000   \n",
       "75%      0.0   30.000000   12.000000  ...   1448.371000   7759.542000   \n",
       "max      0.0   55.000000   18.000000  ...  17806.550000  25564.670000   \n",
       "\n",
       "       Propensity_Score  \n",
       "count        185.000000  \n",
       "mean           0.376183  \n",
       "std            0.120044  \n",
       "min            0.027455  \n",
       "25%            0.283778  \n",
       "50%            0.428686  \n",
       "75%            0.445671  \n",
       "max            0.559455  \n",
       "\n",
       "[8 rows x 11 columns]"
      ]
     },
     "execution_count": 10,
     "metadata": {},
     "output_type": "execute_result"
    }
   ],
   "source": [
    "matched_control_group.describe()"
   ]
  },
  {
   "cell_type": "code",
   "execution_count": 11,
   "metadata": {},
   "outputs": [
    {
     "data": {
      "text/html": [
       "<div>\n",
       "<style scoped>\n",
       "    .dataframe tbody tr th:only-of-type {\n",
       "        vertical-align: middle;\n",
       "    }\n",
       "\n",
       "    .dataframe tbody tr th {\n",
       "        vertical-align: top;\n",
       "    }\n",
       "\n",
       "    .dataframe thead th {\n",
       "        text-align: right;\n",
       "    }\n",
       "</style>\n",
       "<table border=\"1\" class=\"dataframe\">\n",
       "  <thead>\n",
       "    <tr style=\"text-align: right;\">\n",
       "      <th></th>\n",
       "      <th>treat</th>\n",
       "      <th>age</th>\n",
       "      <th>educ</th>\n",
       "      <th>...</th>\n",
       "      <th>re75</th>\n",
       "      <th>re78</th>\n",
       "      <th>Propensity_Score</th>\n",
       "    </tr>\n",
       "  </thead>\n",
       "  <tbody>\n",
       "    <tr>\n",
       "      <th>count</th>\n",
       "      <td>244.0</td>\n",
       "      <td>244.000000</td>\n",
       "      <td>244.000000</td>\n",
       "      <td>...</td>\n",
       "      <td>244.000000</td>\n",
       "      <td>244.000000</td>\n",
       "      <td>244.000000</td>\n",
       "    </tr>\n",
       "    <tr>\n",
       "      <th>mean</th>\n",
       "      <td>0.0</td>\n",
       "      <td>30.045082</td>\n",
       "      <td>10.016393</td>\n",
       "      <td>...</td>\n",
       "      <td>3411.635755</td>\n",
       "      <td>8281.573265</td>\n",
       "      <td>0.182406</td>\n",
       "    </tr>\n",
       "    <tr>\n",
       "      <th>std</th>\n",
       "      <td>0.0</td>\n",
       "      <td>10.782646</td>\n",
       "      <td>2.873130</td>\n",
       "      <td>...</td>\n",
       "      <td>3638.916008</td>\n",
       "      <td>7922.144347</td>\n",
       "      <td>0.122063</td>\n",
       "    </tr>\n",
       "    <tr>\n",
       "      <th>min</th>\n",
       "      <td>0.0</td>\n",
       "      <td>16.000000</td>\n",
       "      <td>0.000000</td>\n",
       "      <td>...</td>\n",
       "      <td>0.000000</td>\n",
       "      <td>0.000000</td>\n",
       "      <td>0.029557</td>\n",
       "    </tr>\n",
       "    <tr>\n",
       "      <th>25%</th>\n",
       "      <td>0.0</td>\n",
       "      <td>21.000000</td>\n",
       "      <td>8.000000</td>\n",
       "      <td>...</td>\n",
       "      <td>205.887100</td>\n",
       "      <td>833.068375</td>\n",
       "      <td>0.089860</td>\n",
       "    </tr>\n",
       "    <tr>\n",
       "      <th>50%</th>\n",
       "      <td>0.0</td>\n",
       "      <td>27.000000</td>\n",
       "      <td>11.000000</td>\n",
       "      <td>...</td>\n",
       "      <td>2434.839000</td>\n",
       "      <td>6285.510000</td>\n",
       "      <td>0.147602</td>\n",
       "    </tr>\n",
       "    <tr>\n",
       "      <th>75%</th>\n",
       "      <td>0.0</td>\n",
       "      <td>38.250000</td>\n",
       "      <td>12.000000</td>\n",
       "      <td>...</td>\n",
       "      <td>5603.709500</td>\n",
       "      <td>14213.142500</td>\n",
       "      <td>0.253148</td>\n",
       "    </tr>\n",
       "    <tr>\n",
       "      <th>max</th>\n",
       "      <td>0.0</td>\n",
       "      <td>55.000000</td>\n",
       "      <td>17.000000</td>\n",
       "      <td>...</td>\n",
       "      <td>18347.230000</td>\n",
       "      <td>25564.670000</td>\n",
       "      <td>0.421878</td>\n",
       "    </tr>\n",
       "  </tbody>\n",
       "</table>\n",
       "<p>8 rows × 11 columns</p>\n",
       "</div>"
      ],
      "text/plain": [
       "       treat         age        educ  ...          re75          re78  \\\n",
       "count  244.0  244.000000  244.000000  ...    244.000000    244.000000   \n",
       "mean     0.0   30.045082   10.016393  ...   3411.635755   8281.573265   \n",
       "std      0.0   10.782646    2.873130  ...   3638.916008   7922.144347   \n",
       "min      0.0   16.000000    0.000000  ...      0.000000      0.000000   \n",
       "25%      0.0   21.000000    8.000000  ...    205.887100    833.068375   \n",
       "50%      0.0   27.000000   11.000000  ...   2434.839000   6285.510000   \n",
       "75%      0.0   38.250000   12.000000  ...   5603.709500  14213.142500   \n",
       "max      0.0   55.000000   17.000000  ...  18347.230000  25564.670000   \n",
       "\n",
       "       Propensity_Score  \n",
       "count        244.000000  \n",
       "mean           0.182406  \n",
       "std            0.122063  \n",
       "min            0.029557  \n",
       "25%            0.089860  \n",
       "50%            0.147602  \n",
       "75%            0.253148  \n",
       "max            0.421878  \n",
       "\n",
       "[8 rows x 11 columns]"
      ]
     },
     "execution_count": 11,
     "metadata": {},
     "output_type": "execute_result"
    }
   ],
   "source": [
    "unmatched_control_group.describe()"
   ]
  },
  {
   "cell_type": "markdown",
   "metadata": {},
   "source": [
    "## SDM 계산"
   ]
  },
  {
   "cell_type": "code",
   "execution_count": 12,
   "metadata": {},
   "outputs": [],
   "source": [
    "# for SMD score\n",
    "SMD_before_matching_data = abs(treatment_group[FEATURE].mean() - control_group[FEATURE].mean()) / data[FEATURE].std()\n",
    "\n",
    "\n",
    "matched_data = pd.concat([treatment_group, matched_control_group])\n",
    "SMD_after_matching_data = abs(treatment_group[FEATURE].mean() - matched_control_group[FEATURE].mean()) / matched_data[FEATURE].std()"
   ]
  },
  {
   "cell_type": "code",
   "execution_count": 13,
   "metadata": {},
   "outputs": [
    {
     "data": {
      "text/plain": [
       "age        0.224071\n",
       "educ       0.042048\n",
       "married    0.656217\n",
       "re74       0.543946\n",
       "dtype: float64"
      ]
     },
     "execution_count": 13,
     "metadata": {},
     "output_type": "execute_result"
    }
   ],
   "source": [
    "SMD_before_matching_data"
   ]
  },
  {
   "cell_type": "code",
   "execution_count": 14,
   "metadata": {},
   "outputs": [
    {
     "data": {
      "text/plain": [
       "age        0.050270\n",
       "educ       0.073005\n",
       "married    0.080170\n",
       "re74       0.042898\n",
       "dtype: float64"
      ]
     },
     "execution_count": 14,
     "metadata": {},
     "output_type": "execute_result"
    }
   ],
   "source": [
    "SMD_after_matching_data"
   ]
  },
  {
   "cell_type": "code",
   "execution_count": 15,
   "metadata": {},
   "outputs": [
    {
     "data": {
      "image/png": "[encoded data removed]",
      "text/plain": [
       "<Figure size 1000x600 with 1 Axes>"
      ]
     },
     "metadata": {},
     "output_type": "display_data"
    }
   ],
   "source": [
    "# x 좌표\n",
    "variables = FEATURE\n",
    "x = np.arange(len(variables))\n",
    "\n",
    "# 너비 설정\n",
    "width = 0.35\n",
    "\n",
    "# 시각화\n",
    "fig, ax = plt.subplots(figsize=(10, 6))\n",
    "\n",
    "# 매칭 전 SMD\n",
    "bars1 = ax.bar(x - width/2, SMD_before_matching_data, width, label='Before Matching', color='blue', alpha=0.7)\n",
    "\n",
    "# 매칭 후 SMD\n",
    "bars2 = ax.bar(x + width/2, SMD_after_matching_data, width, label='After Matching', color='red', alpha=0.7)\n",
    "\n",
    "# 레이블 및 타이틀 설정\n",
    "ax.set_xlabel('Variables')\n",
    "ax.set_ylabel('Standardized Mean Difference (SMD)')\n",
    "ax.set_title('SMD Before and After Matching')\n",
    "ax.set_xticks(x)\n",
    "ax.set_xticklabels(variables)\n",
    "ax.legend()\n",
    "\n",
    "# 그래프 표시\n",
    "plt.show()"
   ]
  },
  {
   "cell_type": "markdown",
   "metadata": {},
   "source": [
    "## 시각화\n"
   ]
  },
  {
   "cell_type": "code",
   "execution_count": 16,
   "metadata": {},
   "outputs": [
    {
     "data": {
      "text/plain": [
       "(array([ 53.,  68.,  56.,  43.,  18.,  17.,  20., 115.,  30.,   9.]),\n",
       " array([0.02745549, 0.08065549, 0.13385549, 0.18705549, 0.24025549,\n",
       "        0.29345549, 0.3466555 , 0.3998555 , 0.4530555 , 0.5062555 ,\n",
       "        0.5594555 ]),\n",
       " <BarContainer object of 10 artists>)"
      ]
     },
     "execution_count": 16,
     "metadata": {},
     "output_type": "execute_result"
    },
    {
     "data": {
      "image/png": "[encoded data removed]",
      "text/plain": [
       "<Figure size 640x480 with 1 Axes>"
      ]
     },
     "metadata": {},
     "output_type": "display_data"
    }
   ],
   "source": [
    "plt.hist(treatment_group['Propensity_Score'], alpha=0.5, label='Treatment Group', color='blue')\n",
    "plt.hist(control_group['Propensity_Score'], alpha=0.5, label='Control Group', color='red')"
   ]
  },
  {
   "cell_type": "code",
   "execution_count": 17,
   "metadata": {},
   "outputs": [
    {
     "data": {
      "text/plain": [
       "(array([ 5.,  5.,  5., 25.,  7.,  6., 10., 83., 30.,  9.]),\n",
       " array([0.02745549, 0.08065549, 0.13385549, 0.18705549, 0.24025549,\n",
       "        0.29345549, 0.3466555 , 0.3998555 , 0.4530555 , 0.5062555 ,\n",
       "        0.5594555 ]),\n",
       " <BarContainer object of 10 artists>)"
      ]
     },
     "execution_count": 17,
     "metadata": {},
     "output_type": "execute_result"
    },
    {
     "data": {
      "image/png": "[encoded data removed]",
      "text/plain": [
       "<Figure size 640x480 with 1 Axes>"
      ]
     },
     "metadata": {},
     "output_type": "display_data"
    }
   ],
   "source": [
    "plt.hist(treatment_group['Propensity_Score'], alpha=0.5, label='Treatment Group', color='blue')\n",
    "plt.hist(matched_control_group['Propensity_Score'], alpha=0.5, label='Control Group', color='red')"
   ]
  },
  {
   "cell_type": "markdown",
   "metadata": {},
   "source": [
    "## 통계 검정"
   ]
  },
  {
   "cell_type": "code",
   "execution_count": 18,
   "metadata": {},
   "outputs": [],
   "source": [
    "import scipy.stats as stats"
   ]
  },
  {
   "cell_type": "code",
   "execution_count": 19,
   "metadata": {},
   "outputs": [
    {
     "name": "stdout",
     "output_type": "stream",
     "text": [
      "t-statistic: 1.4816449346303109\n",
      "p-value: 0.13929053366638375\n"
     ]
    }
   ],
   "source": [
    "treat_group = matched_data[matched_data['treat'] == 1]['re78']\n",
    "control_group = matched_data[matched_data['treat'] == 0]['re78']\n",
    "\n",
    "# t-검정 수행\n",
    "t_stat, p_value = stats.ttest_ind(treat_group, control_group)\n",
    "\n",
    "# 결과 출력\n",
    "print(f\"t-statistic: {t_stat}\")\n",
    "print(f\"p-value: {p_value}\")"
   ]
  },
  {
   "cell_type": "code",
   "execution_count": 20,
   "metadata": {},
   "outputs": [
    {
     "data": {
      "text/plain": [
       "(6349.143530270271, 5272.9996905405405)"
      ]
     },
     "execution_count": 20,
     "metadata": {},
     "output_type": "execute_result"
    }
   ],
   "source": [
    "treat_group.mean(), control_group.mean()"
   ]
  },
  {
   "cell_type": "code",
   "execution_count": null,
   "metadata": {},
   "outputs": [],
   "source": []
  },
  {
   "cell_type": "code",
   "execution_count": null,
   "metadata": {},
   "outputs": [],
   "source": []
  },
  {
   "cell_type": "code",
   "execution_count": null,
   "metadata": {},
   "outputs": [],
   "source": []
  },
  {
   "cell_type": "code",
   "execution_count": null,
   "metadata": {},
   "outputs": [],
   "source": []
  },
  {
   "cell_type": "code",
   "execution_count": 37,
   "metadata": {},
   "outputs": [],
   "source": [
    "data = pd.read_csv(\"lalonde_data.csv\")"
   ]
  },
  {
   "cell_type": "code",
   "execution_count": 38,
   "metadata": {},
   "outputs": [
    {
     "data": {
      "text/html": [
       "<div>\n",
       "<style scoped>\n",
       "    .dataframe tbody tr th:only-of-type {\n",
       "        vertical-align: middle;\n",
       "    }\n",
       "\n",
       "    .dataframe tbody tr th {\n",
       "        vertical-align: top;\n",
       "    }\n",
       "\n",
       "    .dataframe thead th {\n",
       "        text-align: right;\n",
       "    }\n",
       "</style>\n",
       "<table border=\"1\" class=\"dataframe\">\n",
       "  <thead>\n",
       "    <tr style=\"text-align: right;\">\n",
       "      <th></th>\n",
       "      <th>ID</th>\n",
       "      <th>treat</th>\n",
       "      <th>age</th>\n",
       "      <th>...</th>\n",
       "      <th>re74</th>\n",
       "      <th>re75</th>\n",
       "      <th>re78</th>\n",
       "    </tr>\n",
       "  </thead>\n",
       "  <tbody>\n",
       "    <tr>\n",
       "      <th>0</th>\n",
       "      <td>NSW1</td>\n",
       "      <td>1</td>\n",
       "      <td>37</td>\n",
       "      <td>...</td>\n",
       "      <td>0.0</td>\n",
       "      <td>0.0</td>\n",
       "      <td>9930.0460</td>\n",
       "    </tr>\n",
       "    <tr>\n",
       "      <th>1</th>\n",
       "      <td>NSW2</td>\n",
       "      <td>1</td>\n",
       "      <td>22</td>\n",
       "      <td>...</td>\n",
       "      <td>0.0</td>\n",
       "      <td>0.0</td>\n",
       "      <td>3595.8940</td>\n",
       "    </tr>\n",
       "    <tr>\n",
       "      <th>2</th>\n",
       "      <td>NSW3</td>\n",
       "      <td>1</td>\n",
       "      <td>30</td>\n",
       "      <td>...</td>\n",
       "      <td>0.0</td>\n",
       "      <td>0.0</td>\n",
       "      <td>24909.4500</td>\n",
       "    </tr>\n",
       "    <tr>\n",
       "      <th>3</th>\n",
       "      <td>NSW4</td>\n",
       "      <td>1</td>\n",
       "      <td>27</td>\n",
       "      <td>...</td>\n",
       "      <td>0.0</td>\n",
       "      <td>0.0</td>\n",
       "      <td>7506.1460</td>\n",
       "    </tr>\n",
       "    <tr>\n",
       "      <th>4</th>\n",
       "      <td>NSW5</td>\n",
       "      <td>1</td>\n",
       "      <td>33</td>\n",
       "      <td>...</td>\n",
       "      <td>0.0</td>\n",
       "      <td>0.0</td>\n",
       "      <td>289.7899</td>\n",
       "    </tr>\n",
       "    <tr>\n",
       "      <th>...</th>\n",
       "      <td>...</td>\n",
       "      <td>...</td>\n",
       "      <td>...</td>\n",
       "      <td>...</td>\n",
       "      <td>...</td>\n",
       "      <td>...</td>\n",
       "      <td>...</td>\n",
       "    </tr>\n",
       "    <tr>\n",
       "      <th>609</th>\n",
       "      <td>PSID425</td>\n",
       "      <td>0</td>\n",
       "      <td>18</td>\n",
       "      <td>...</td>\n",
       "      <td>0.0</td>\n",
       "      <td>0.0</td>\n",
       "      <td>10150.5000</td>\n",
       "    </tr>\n",
       "    <tr>\n",
       "      <th>610</th>\n",
       "      <td>PSID426</td>\n",
       "      <td>0</td>\n",
       "      <td>24</td>\n",
       "      <td>...</td>\n",
       "      <td>0.0</td>\n",
       "      <td>0.0</td>\n",
       "      <td>19464.6100</td>\n",
       "    </tr>\n",
       "    <tr>\n",
       "      <th>611</th>\n",
       "      <td>PSID427</td>\n",
       "      <td>0</td>\n",
       "      <td>21</td>\n",
       "      <td>...</td>\n",
       "      <td>0.0</td>\n",
       "      <td>0.0</td>\n",
       "      <td>0.0000</td>\n",
       "    </tr>\n",
       "    <tr>\n",
       "      <th>612</th>\n",
       "      <td>PSID428</td>\n",
       "      <td>0</td>\n",
       "      <td>32</td>\n",
       "      <td>...</td>\n",
       "      <td>0.0</td>\n",
       "      <td>0.0</td>\n",
       "      <td>187.6713</td>\n",
       "    </tr>\n",
       "    <tr>\n",
       "      <th>613</th>\n",
       "      <td>PSID429</td>\n",
       "      <td>0</td>\n",
       "      <td>16</td>\n",
       "      <td>...</td>\n",
       "      <td>0.0</td>\n",
       "      <td>0.0</td>\n",
       "      <td>1495.4590</td>\n",
       "    </tr>\n",
       "  </tbody>\n",
       "</table>\n",
       "<p>614 rows × 11 columns</p>\n",
       "</div>"
      ],
      "text/plain": [
       "          ID  treat  age  ...  re74  re75        re78\n",
       "0       NSW1      1   37  ...   0.0   0.0   9930.0460\n",
       "1       NSW2      1   22  ...   0.0   0.0   3595.8940\n",
       "2       NSW3      1   30  ...   0.0   0.0  24909.4500\n",
       "3       NSW4      1   27  ...   0.0   0.0   7506.1460\n",
       "4       NSW5      1   33  ...   0.0   0.0    289.7899\n",
       "..       ...    ...  ...  ...   ...   ...         ...\n",
       "609  PSID425      0   18  ...   0.0   0.0  10150.5000\n",
       "610  PSID426      0   24  ...   0.0   0.0  19464.6100\n",
       "611  PSID427      0   21  ...   0.0   0.0      0.0000\n",
       "612  PSID428      0   32  ...   0.0   0.0    187.6713\n",
       "613  PSID429      0   16  ...   0.0   0.0   1495.4590\n",
       "\n",
       "[614 rows x 11 columns]"
      ]
     },
     "execution_count": 38,
     "metadata": {},
     "output_type": "execute_result"
    }
   ],
   "source": [
    "data"
   ]
  },
  {
   "cell_type": "code",
   "execution_count": 42,
   "metadata": {},
   "outputs": [
    {
     "data": {
      "image/png": "[encoded data removed]",
      "text/plain": [
       "<Figure size 1000x600 with 1 Axes>"
      ]
     },
     "metadata": {},
     "output_type": "display_data"
    },
    {
     "data": {
      "image/png": "[encoded data removed]",
      "text/plain": [
       "<Figure size 800x600 with 1 Axes>"
      ]
     },
     "metadata": {},
     "output_type": "display_data"
    },
    {
     "name": "stdout",
     "output_type": "stream",
     "text": [
      "ATE (Average Treatment Effect): -952.728857084692\n",
      "Refute: Use a Placebo Treatment\n",
      "Estimated effect:-952.728857084692\n",
      "New effect:-16.825574479478846\n",
      "p value:0.92\n",
      "\n",
      "Refute: Add a random common cause\n",
      "Estimated effect:-952.728857084692\n",
      "New effect:-952.7288570846919\n",
      "p value:1.0\n",
      "\n"
     ]
    }
   ],
   "source": [
    "import pandas as pd\n",
    "import numpy as np\n",
    "import matplotlib.pyplot as plt\n",
    "import statsmodels.api as sm\n",
    "import statsmodels.formula.api as smf\n",
    "from scipy.spatial.distance import cdist\n",
    "from dowhy import CausalModel\n",
    "\n",
    "\n",
    "# 성향 점수 계산\n",
    "TREAT = \"treat\"\n",
    "FEATURE = [\"age\", \"educ\", \"married\", \"re74\"]\n",
    "data['outcome'] = data['re74']\n",
    "\n",
    "formula = f\"{TREAT} ~ {' + '.join(FEATURE)}\"\n",
    "lg_model = smf.glm(formula=formula, data=data, family=sm.families.Binomial()).fit()\n",
    "\n",
    "Propensity_Score = lg_model.predict(data[FEATURE])\n",
    "data['Propensity_Score'] = Propensity_Score\n",
    "\n",
    "# 회귀분석 기반 매칭\n",
    "data['Propensity_Score'] = pd.to_numeric(data['Propensity_Score'])\n",
    "data['pair'] = \"NAN\"\n",
    "\n",
    "# 처치군과 대조군 나누기\n",
    "treatment_group = data[data['treat'] == 1]\n",
    "control_group = data[data['treat'] == 0]\n",
    "\n",
    "# 매칭 결과를 저장할 딕셔너리\n",
    "matching_result = {}\n",
    "\n",
    "# 매칭되지 않은 대조군\n",
    "remaining_controls = control_group.copy()\n",
    "\n",
    "for index_treat, row_treat in treatment_group.iterrows():\n",
    "    # 처치군의 각 행에 대해서 대조군과의 유사도 측정\n",
    "    distances = cdist([row_treat[['Propensity_Score']].astype(float)], remaining_controls[['Propensity_Score']], metric='euclidean')\n",
    "\n",
    "    # 유사도가 가장 작은 대조군의 index 찾기\n",
    "    best_match_index = distances.argmin()\n",
    "    matching_control_index = remaining_controls.iloc[best_match_index].name\n",
    "\n",
    "    # 매칭 결과 저장\n",
    "    matching_result[index_treat] = matching_control_index\n",
    "\n",
    "    # 매칭된 대조군 제외\n",
    "    remaining_controls.drop(index=matching_control_index, inplace=True)\n",
    "\n",
    "for treat_index, control_index in matching_result.items():\n",
    "    treatment_group.loc[treat_index, \"pair\"] = int(control_index)\n",
    "    control_group.loc[control_index, 'pair'] = int(treat_index)\n",
    "\n",
    "matched_control_group = control_group[control_group['pair'] != \"NAN\"]\n",
    "unmatched_control_group = control_group[control_group['pair'] == \"NAN\"]\n",
    "\n",
    "# 매칭 전후의 표준화 평균 차이 (SMD) 계산\n",
    "SMD_before_matching_data = abs(treatment_group[FEATURE].mean() - control_group[FEATURE].mean()) / data[FEATURE].std()\n",
    "matched_data = pd.concat([treatment_group, matched_control_group])\n",
    "SMD_after_matching_data = abs(treatment_group[FEATURE].mean() - matched_control_group[FEATURE].mean()) / matched_data[FEATURE].std()\n",
    "\n",
    "# x 좌표\n",
    "variables = FEATURE\n",
    "x = np.arange(len(variables))\n",
    "\n",
    "# 너비 설정\n",
    "width = 0.35\n",
    "\n",
    "# 시각화\n",
    "fig, ax = plt.subplots(figsize=(10, 6))\n",
    "\n",
    "# 매칭 전 SMD\n",
    "bars1 = ax.bar(x - width/2, SMD_before_matching_data, width, label='Before Matching', color='blue', alpha=0.7)\n",
    "\n",
    "# 매칭 후 SMD\n",
    "bars2 = ax.bar(x + width/2, SMD_after_matching_data, width, label='After Matching', color='red', alpha=0.7)\n",
    "\n",
    "# 레이블 및 타이틀 설정\n",
    "ax.set_xlabel('Variables')\n",
    "ax.set_ylabel('Standardized Mean Difference (SMD)')\n",
    "ax.set_title('SMD Before and After Matching')\n",
    "ax.set_xticks(x)\n",
    "ax.set_xticklabels(variables)\n",
    "ax.legend()\n",
    "\n",
    "# 그래프 표시\n",
    "plt.show()\n",
    "\n",
    "# DoWhy 인과 추론\n",
    "model = CausalModel(\n",
    "    data=data,\n",
    "    treatment='treat',\n",
    "    outcome='re78',\n",
    "    common_causes=FEATURE\n",
    ")\n",
    "\n",
    "# 인과 모형 시각화\n",
    "model.view_model()\n",
    "\n",
    "# 성향 점수 매칭을 사용하여 인과 효과 추정\n",
    "identified_estimand = model.identify_effect()\n",
    "estimate = model.estimate_effect(identified_estimand, method_name=\"backdoor.propensity_score_matching\")\n",
    "\n",
    "# 결과 출력\n",
    "print(f'ATE (Average Treatment Effect): {estimate.value}')\n",
    "\n",
    "# 결과 해석 및 refutation\n",
    "refute_placebo = model.refute_estimate(\n",
    "    identified_estimand,\n",
    "    estimate,\n",
    "    method_name=\"placebo_treatment_refuter\"\n",
    ")\n",
    "print(refute_placebo)\n",
    "\n",
    "refute_random = model.refute_estimate(\n",
    "    identified_estimand,\n",
    "    estimate,\n",
    "    method_name=\"random_common_cause\"\n",
    ")\n",
    "print(refute_random)"
   ]
  },
  {
   "cell_type": "code",
   "execution_count": null,
   "metadata": {},
   "outputs": [],
   "source": []
  }
 ],
 "metadata": {
  "kernelspec": {
   "display_name": "base",
   "language": "python",
   "name": "python3"
  },
  "language_info": {
   "codemirror_mode": {
    "name": "ipython",
    "version": 3
   },
   "file_extension": ".py",
   "mimetype": "text/x-python",
   "name": "python",
   "nbconvert_exporter": "python",
   "pygments_lexer": "ipython3",
   "version": "3.11.3"
  }
 },
 "nbformat": 4,
 "nbformat_minor": 2
}
